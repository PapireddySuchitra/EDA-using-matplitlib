{
 "cells": [
  {
   "cell_type": "code",
   "execution_count": 1,
   "id": "7ad118c7",
   "metadata": {},
   "outputs": [
    {
     "name": "stdout",
     "output_type": "stream",
     "text": [
      "Warning: Identity file key.pem not accessible: No such file or directory.\n",
      "ssh: Could not resolve hostname ipaddress: nodename nor servname provided, or not known\n"
     ]
    }
   ],
   "source": [
    "!ssh -i key.pem ubuntu@ipaddress"
   ]
  },
  {
   "cell_type": "code",
   "execution_count": null,
   "id": "c521d9cb",
   "metadata": {},
   "outputs": [],
   "source": []
  }
 ],
 "metadata": {
  "kernelspec": {
   "display_name": "Python 3 (ipykernel)",
   "language": "python",
   "name": "python3"
  },
  "language_info": {
   "codemirror_mode": {
    "name": "ipython",
    "version": 3
   },
   "file_extension": ".py",
   "mimetype": "text/x-python",
   "name": "python",
   "nbconvert_exporter": "python",
   "pygments_lexer": "ipython3",
   "version": "3.10.9"
  }
 },
 "nbformat": 4,
 "nbformat_minor": 5
}
